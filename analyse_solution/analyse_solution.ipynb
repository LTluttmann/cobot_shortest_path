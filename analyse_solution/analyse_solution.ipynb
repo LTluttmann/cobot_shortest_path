{
 "cells": [
  {
   "cell_type": "code",
   "execution_count": 3,
   "metadata": {
    "collapsed": true
   },
   "outputs": [],
   "source": [
    "import matplotlib.pyplot as plt\n",
    "from matplotlib import patches\n",
    "import numpy as np\n",
    "import pandas as pd\n",
    "import pickle\n",
    "import xml.etree.cElementTree as ET\n",
    "import os"
   ]
  },
  {
   "cell_type": "markdown",
   "metadata": {},
   "source": [
    "# Analysing Workload of Cobots / Batches"
   ]
  },
  {
   "cell_type": "code",
   "execution_count": 2,
   "metadata": {
    "collapsed": true
   },
   "outputs": [],
   "source": [
    "listee = {'OutD0_0': [16.59], 'OutD0_1': [9.5, 8.25], \n",
    "          'OutD0_3': [11.79, 5.37, 0.69], 'OutD0_4': [10.269999999999998, 2.93, 4.25], \n",
    "          'OutD0_5': [1.61, 13.52, 1.9], 'OutD0_7': [2.51, 8.88, 3.27], \n",
    "          'OutD0_8': [17.230000000000004], 'OutD1_9': [15.120000000000001], \n",
    "          'OutD0_10': [16.18], 'OutD0_2': [7.06, 5.01]}"
   ]
  },
  {
   "cell_type": "code",
   "execution_count": 3,
   "metadata": {
    "collapsed": true
   },
   "outputs": [],
   "source": [
    "listee = {'OutD0_0': [17.230000000000004], 'OutD0_1': [9.5, 8.25], 'OutD0_2': [1.9, 3.27], \n",
    "          'OutD1_3': [11.79, 5.37, 0.69], 'OutD1_4': [10.269999999999998, 2.93, 4.25], \n",
    "          'OutD1_5': [16.18, 1.61], 'OutD1_6': [8.88, 7.06], 'OutD1_7': [5.01, 2.51], \n",
    "          'OutD1_8': [13.52], 'OutD1_9': [16.59], 'OutD1_10': [15.120000000000001]}"
   ]
  },
  {
   "cell_type": "code",
   "execution_count": 4,
   "metadata": {
    "scrolled": true
   },
   "outputs": [
    {
     "data": {
      "image/png": "[encoded data removed]",
      "text/plain": [
       "<Figure size 900x540 with 1 Axes>"
      ]
     },
     "metadata": {},
     "output_type": "display_data"
    }
   ],
   "source": [
    "width = 2\n",
    "toggle_h = .3\n",
    "toggle_v = .01\n",
    "fig, ax = plt.subplots()\n",
    "for count, value in enumerate(listee.values()):\n",
    "    curr_height = 0\n",
    "    for height in value:\n",
    "        rect = patches.Rectangle((count*width, curr_height), \n",
    "                                 width=width, height=height,\n",
    "                                 facecolor = '#333F50', edgecolor = 'w', lw=2)\n",
    "        curr_height += height+toggle_v        \n",
    "        ax.add_patch(rect)\n",
    "ax.autoscale_view()\n",
    "ax.figure.canvas.draw()\n",
    "\n",
    "box_widths = np.arange(0, len(listee.keys())*width+1, width)\n",
    "xticks = []\n",
    "for first, second in zip(box_widths, box_widths[1:]):\n",
    "    xticks.append((first + second) / 2)\n",
    "ax.set_xticks(xticks)\n",
    "ax.set_xticklabels(listee.keys())\n",
    "ax.axhline(y=18, c=\"#C00000\", lw=2, linestyle=\"--\")\n",
    "ax.set_yticks(np.arange(0, 19, 2))\n",
    "ax.set_yticklabels(list(np.arange(0, 17, 2))+[\"$\\kappa$\"])\n",
    "ax.tick_params(axis=\"y\", which='major', labelsize=14)\n",
    "ax.tick_params(axis='x', which='major', labelsize=12, rotation=45)\n",
    "ax.set_ylabel(\"weight\", fontsize=16)\n",
    "ax.set_xlabel(\"Batch ID\", fontsize=16)\n",
    "ax.set_ylim((0,18.5))\n",
    "plt.title(\"Workload of Cobots for Greedy Heuristic\", fontsize=16)\n",
    "fig.set_size_inches(12.5, 7.5)\n",
    "#ax.set_aspect('equal')\n",
    "plt.savefig('../../../figures/sol.eps',bbox_inches='tight', transparent=\"False\", format=\"eps\")\n",
    "plt.show()"
   ]
  },
  {
   "cell_type": "markdown",
   "metadata": {},
   "source": [
    "# Runtime Analysis"
   ]
  },
  {
   "cell_type": "code",
   "execution_count": 5,
   "metadata": {
    "collapsed": true
   },
   "outputs": [],
   "source": [
    "# sku 24, orders_10_mean_1x6_sku, dedicated\n",
    "runtime_dict_24_10 = {0: 85.1, 5: 66.2, 10: 64.39999999999999, \n",
    "                      20: 64.39999999999999, 30: 64.4, 50: 64.4, 70: 64.39999999999999}\n",
    "runtime_dict_24_10 = {k: (v -  minimum) / v for minimum in (min(runtime_dict_24_10.values()),) for k, v in runtime_dict_24_10.items()}"
   ]
  },
  {
   "cell_type": "code",
   "execution_count": 6,
   "metadata": {
    "collapsed": true
   },
   "outputs": [],
   "source": [
    "runtime_dict_360_10 = {0: 819.5999999999997, 5: 750.8999999999996, 10: 755.1999999999998, \n",
    "                       20: 738.5999999999997, 30: 763.1999999999998, 50: 748.7999999999997, 70: 741.8999999999997}\n",
    "runtime_dict_360_10 = {k: (v - minimum) / v for minimum in (min(runtime_dict_360_10.values()),) for k, v in runtime_dict_360_10.items()}"
   ]
  },
  {
   "cell_type": "code",
   "execution_count": 7,
   "metadata": {
    "collapsed": true
   },
   "outputs": [],
   "source": [
    "runtime_dict_24_20 = {0: 1531.4, 5: 1378.3, 10: 1378.3, 20: 1289.8, 40: 1289.8, \n",
    "                      80: 1289.8, 300: 1285.1}\n",
    "runtime_dict_24_20 = {k: (v - minimum) / v for minimum in (min(runtime_dict_24_20.values()),) for k, v in runtime_dict_24_20.items()}"
   ]
  },
  {
   "cell_type": "code",
   "execution_count": 8,
   "metadata": {
    "collapsed": true
   },
   "outputs": [],
   "source": [
    "df_24_10 = pd.DataFrame.from_dict(runtime_dict_24_10, orient=\"index\").reset_index()\n",
    "df_24_10.columns = [\"Runtime\", \"Fitness (24, 10)\"]\n",
    "df_360_10 = pd.DataFrame.from_dict(runtime_dict_360_10, orient=\"index\").reset_index()\n",
    "df_360_10.columns = [\"Runtime\", \"Fitness (360, 10)\"]"
   ]
  },
  {
   "cell_type": "code",
   "execution_count": 9,
   "metadata": {
    "collapsed": true
   },
   "outputs": [],
   "source": [
    "df = df_24_10.merge(df_360_10)"
   ]
  },
  {
   "cell_type": "code",
   "execution_count": 10,
   "metadata": {},
   "outputs": [
    {
     "data": {
      "image/png": "[encoded data removed]",
      "text/plain": [
       "<Figure size 432x288 with 1 Axes>"
      ]
     },
     "metadata": {},
     "output_type": "display_data"
    }
   ],
   "source": [
    "df.plot(x=\"Runtime\")\n",
    "plt.ylabel(\"Deviation from minimum Fitness\")\n",
    "plt.show()"
   ]
  },
  {
   "cell_type": "code",
   "execution_count": 11,
   "metadata": {},
   "outputs": [
    {
     "data": {
      "image/png": "[encoded data removed]",
      "text/plain": [
       "<Figure size 432x288 with 1 Axes>"
      ]
     },
     "metadata": {},
     "output_type": "display_data"
    }
   ],
   "source": [
    "df_24_10 = pd.DataFrame.from_dict(runtime_dict_24_20, orient=\"index\").reset_index()\n",
    "df_24_10.columns = [\"Runtime\", \"Fitness (24, 20)\"]\n",
    "df_24_10.plot(x=\"Runtime\")\n",
    "plt.ylabel(\"Deviation from minimum Fitness\")\n",
    "plt.show()"
   ]
  },
  {
   "cell_type": "code",
   "execution_count": 12,
   "metadata": {
    "collapsed": true
   },
   "outputs": [],
   "source": [
    "a = {'OutD1_1': ['7', '2', '9', '10'], 'OutD0_3': ['7', '2', '10', '11', '16'], \n",
    "     'OutD0_6': ['15', '16', '11', '10', '9', '2', '7'], 'OutD1_10': ['15', '1', '2', '9', '10', '4', '11'], \n",
    "     'OutD0_7': ['1', '2', '10', '4', '11', '16', '15'], 'OutD0_2': ['7', '1', '2', '9', '4', '11', '16', '15'], \n",
    "     'OutD1_4': ['1', '9', '10', '11'], 'OutD0_8': ['4', '10', '2', '7'], \n",
    "     'OutD0_5': ['1', '7', '2', '9', '11', '16', '15'], 'OutD0_9': ['1', '9', '10', '4', '11', '15']}"
   ]
  },
  {
   "cell_type": "code",
   "execution_count": 13,
   "metadata": {
    "collapsed": true
   },
   "outputs": [],
   "source": [
    "with open('solutions/mixed360.pickle', 'rb') as handle:\n",
    "    b = pickle.load(handle)"
   ]
  },
  {
   "cell_type": "code",
   "execution_count": 14,
   "metadata": {},
   "outputs": [
    {
     "data": {
      "image/png": "[encoded data removed]",
      "text/plain": [
       "<Figure size 432x288 with 1 Axes>"
      ]
     },
     "metadata": {},
     "output_type": "display_data"
    }
   ],
   "source": [
    "for orders in [10,20]:\n",
    "    for subscript in [\"\", \"_b\"]:\n",
    "        x = []\n",
    "        y = []\n",
    "        for key, value in b[(\"360\", subscript, orders)].items():\n",
    "            if key not in []:\n",
    "                x.append(key)\n",
    "                y.append(value[0])\n",
    "        y = np.array(y) / np.min(y)\n",
    "        plt.plot(x,y, alpha=0.6, label='orders_{}_mean_5_sku_{}{}'.format(str(orders), \"360\", subscript))\n",
    "plt.legend()\n",
    "plt.show()"
   ]
  },
  {
   "cell_type": "code",
   "execution_count": 15,
   "metadata": {},
   "outputs": [
    {
     "data": {
      "text/plain": [
       "703.8"
      ]
     },
     "execution_count": 15,
     "metadata": {},
     "output_type": "execute_result"
    }
   ],
   "source": [
    "b[(\"360\", \"\", 20)][40][0]"
   ]
  },
  {
   "cell_type": "code",
   "execution_count": 16,
   "metadata": {
    "collapsed": true
   },
   "outputs": [],
   "source": [
    "with open('solutions/mixed360_not_random_twoopt.pickle', 'rb') as handle:\n",
    "    c = pickle.load(handle)"
   ]
  },
  {
   "cell_type": "code",
   "execution_count": 17,
   "metadata": {},
   "outputs": [
    {
     "data": {
      "text/plain": [
       "738.1"
      ]
     },
     "execution_count": 17,
     "metadata": {},
     "output_type": "execute_result"
    }
   ],
   "source": [
    "c[(\"360\", \"\", 20)][40][0]"
   ]
  },
  {
   "cell_type": "code",
   "execution_count": 35,
   "metadata": {
    "collapsed": true
   },
   "outputs": [],
   "source": [
    "df = pd.DataFrame({\"Randomized 2-opt\":[True, True, False, False], \n",
    "             \"Randomized LS\": [True, False, False, True],\n",
    "             \"Fitness\":[742.1, 703.8, 738.1, 745.7],\n",
    "             \"Runtime\":[40, 40, 40, 40]})"
   ]
  },
  {
   "cell_type": "code",
   "execution_count": 38,
   "metadata": {},
   "outputs": [
    {
     "name": "stdout",
     "output_type": "stream",
     "text": [
      "\\begin{tabular}{lllrr}\n",
      "\\toprule\n",
      "{} &  Randomized 2-opt &  Randomized LS &  Fitness &  Runtime \\\\\n",
      "\\midrule\n",
      "\\textbf{0} &              True &           True &    742.1 &       40 \\\\\n",
      "\\textbf{1} &              True &          False &    703.8 &       40 \\\\\n",
      "\\textbf{2} &             False &          False &    738.1 &       40 \\\\\n",
      "\\textbf{3} &             False &           True &    745.7 &       40 \\\\\n",
      "\\bottomrule\n",
      "\\end{tabular}\n",
      "\n"
     ]
    }
   ],
   "source": [
    "print(df.to_latex(index=True, bold_rows=True))"
   ]
  },
  {
   "cell_type": "code",
   "execution_count": 39,
   "metadata": {
    "collapsed": true
   },
   "outputs": [],
   "source": [
    "df = pd.DataFrame({\"Randomized 2-opt\":[True, True, False, False], \n",
    "             \"Randomized LS\": [True, False, False, True],\n",
    "             \"Fitness\":[1525.8, 1533.2, 1483.3, 1492.2],\n",
    "             \"Runtime\":[40, 40, 40, 40]})"
   ]
  },
  {
   "cell_type": "code",
   "execution_count": 40,
   "metadata": {},
   "outputs": [
    {
     "name": "stdout",
     "output_type": "stream",
     "text": [
      "\\begin{tabular}{lllrr}\n",
      "\\toprule\n",
      "{} &  Randomized 2-opt &  Randomized LS &  Fitness &  Runtime \\\\\n",
      "\\midrule\n",
      "\\textbf{0} &              True &           True &   1525.8 &       40 \\\\\n",
      "\\textbf{1} &              True &          False &   1533.2 &       40 \\\\\n",
      "\\textbf{2} &             False &          False &   1483.3 &       40 \\\\\n",
      "\\textbf{3} &             False &           True &   1492.2 &       40 \\\\\n",
      "\\bottomrule\n",
      "\\end{tabular}\n",
      "\n"
     ]
    }
   ],
   "source": [
    "print(df.to_latex(index=True, bold_rows=True))"
   ]
  },
  {
   "cell_type": "markdown",
   "metadata": {},
   "source": [
    "### Get Latex Code from Cobot Tours"
   ]
  },
  {
   "cell_type": "markdown",
   "metadata": {},
   "source": [
    "#### Read Solution to dedicated problem from Pickle"
   ]
  },
  {
   "cell_type": "code",
   "execution_count": 13,
   "metadata": {
    "collapsed": true
   },
   "outputs": [],
   "source": [
    "with open('solutions/dedicated3.pickle', 'rb') as handle:\n",
    "    b = pickle.load(handle)"
   ]
  },
  {
   "cell_type": "code",
   "execution_count": 157,
   "metadata": {
    "collapsed": true
   },
   "outputs": [],
   "source": [
    "def latex_string_from_route(route):\n",
    "    latex_string = \"\"\n",
    "    count = 1\n",
    "    for key, value in route.items():\n",
    "        latex_string +=  \"{} & \".format(str(count))\n",
    "        for i, node in enumerate(value):\n",
    "            if i == len(value)-1:\n",
    "                latex_string += node\n",
    "            else:\n",
    "                latex_string += node +  f\" $\\\\rightarrow$ \"\n",
    "        latex_string += \" \\\\\\\\\" + \"\\n \\n\"\n",
    "        count+=1\n",
    "    return latex_string "
   ]
  },
  {
   "cell_type": "code",
   "execution_count": 158,
   "metadata": {
    "scrolled": true
   },
   "outputs": [
    {
     "name": "stdout",
     "output_type": "stream",
     "text": [
      "orders_20_mean_5_sku_24_a\n",
      "--------------------------------------------------------------- \n",
      "\n",
      "315.9 after 5 seconds\n",
      "\n",
      "1 & OutD1 $\\rightarrow$ 1 $\\rightarrow$ 7 $\\rightarrow$ 2 $\\rightarrow$ 10 $\\rightarrow$ 11 $\\rightarrow$ OutD1 \\\\\n",
      " \n",
      "2 & OutD0 $\\rightarrow$ 1 $\\rightarrow$ 7 $\\rightarrow$ 2 $\\rightarrow$ 4 $\\rightarrow$ 11 $\\rightarrow$ 16 $\\rightarrow$ 15 $\\rightarrow$ OutD0 \\\\\n",
      " \n",
      "3 & OutD0 $\\rightarrow$ 15 $\\rightarrow$ 16 $\\rightarrow$ 11 $\\rightarrow$ 4 $\\rightarrow$ 10 $\\rightarrow$ 9 $\\rightarrow$ 2 $\\rightarrow$ 7 $\\rightarrow$ OutD0 \\\\\n",
      " \n",
      "4 & OutD1 $\\rightarrow$ 2 $\\rightarrow$ 1 $\\rightarrow$ 9 $\\rightarrow$ 4 $\\rightarrow$ 10 $\\rightarrow$ 11 $\\rightarrow$ OutD1 \\\\\n",
      " \n",
      "5 & OutD0 $\\rightarrow$ 15 $\\rightarrow$ 16 $\\rightarrow$ 4 $\\rightarrow$ 10 $\\rightarrow$ 9 $\\rightarrow$ 1 $\\rightarrow$ OutD0 \\\\\n",
      " \n",
      "6 & OutD0 $\\rightarrow$ 1 $\\rightarrow$ 2 $\\rightarrow$ 9 $\\rightarrow$ 4 $\\rightarrow$ 11 $\\rightarrow$ 16 $\\rightarrow$ 15 $\\rightarrow$ OutD0 \\\\\n",
      " \n",
      "7 & OutD0 $\\rightarrow$ 1 $\\rightarrow$ 2 $\\rightarrow$ 9 $\\rightarrow$ 11 $\\rightarrow$ 16 $\\rightarrow$ 15 $\\rightarrow$ OutD0 \\\\\n",
      " \n",
      "8 & OutD0 $\\rightarrow$ 7 $\\rightarrow$ 2 $\\rightarrow$ 10 $\\rightarrow$ 4 $\\rightarrow$ 11 $\\rightarrow$ 16 $\\rightarrow$ 15 $\\rightarrow$ OutD0 \\\\\n",
      " \n",
      "9 & OutD1 $\\rightarrow$ 4 $\\rightarrow$ OutD1 \\\\\n",
      " \n",
      "\n",
      "orders_20_mean_5_sku_24_b\n",
      "--------------------------------------------------------------- \n",
      "\n",
      "333.3 after 40 seconds\n",
      "\n",
      "1 & OutD1 $\\rightarrow$ 2 $\\rightarrow$ 9 $\\rightarrow$ 4 $\\rightarrow$ 10 $\\rightarrow$ 11 $\\rightarrow$ 16 $\\rightarrow$ 15 $\\rightarrow$ OutD1 \\\\\n",
      " \n",
      "2 & OutD1 $\\rightarrow$ 11 $\\rightarrow$ 10 $\\rightarrow$ 2 $\\rightarrow$ 7 $\\rightarrow$ 1 $\\rightarrow$ 15 $\\rightarrow$ 16 $\\rightarrow$ OutD1 \\\\\n",
      " \n",
      "3 & OutD1 $\\rightarrow$ 16 $\\rightarrow$ 15 $\\rightarrow$ 1 $\\rightarrow$ 2 $\\rightarrow$ 9 $\\rightarrow$ 10 $\\rightarrow$ 11 $\\rightarrow$ OutD1 \\\\\n",
      " \n",
      "4 & OutD1 $\\rightarrow$ 10 $\\rightarrow$ 9 $\\rightarrow$ 2 $\\rightarrow$ 7 $\\rightarrow$ 1 $\\rightarrow$ 15 $\\rightarrow$ 16 $\\rightarrow$ OutD1 \\\\\n",
      " \n",
      "5 & OutD0 $\\rightarrow$ 7 $\\rightarrow$ 1 $\\rightarrow$ 2 $\\rightarrow$ 9 $\\rightarrow$ 10 $\\rightarrow$ 11 $\\rightarrow$ 16 $\\rightarrow$ 15 $\\rightarrow$ OutD0 \\\\\n",
      " \n",
      "6 & OutD1 $\\rightarrow$ 7 $\\rightarrow$ 4 $\\rightarrow$ 16 $\\rightarrow$ OutD1 \\\\\n",
      " \n",
      "7 & OutD0 $\\rightarrow$ 1 $\\rightarrow$ 7 $\\rightarrow$ 2 $\\rightarrow$ 10 $\\rightarrow$ 4 $\\rightarrow$ 16 $\\rightarrow$ OutD0 \\\\\n",
      " \n",
      "8 & OutD1 $\\rightarrow$ 2 $\\rightarrow$ 7 $\\rightarrow$ 10 $\\rightarrow$ 11 $\\rightarrow$ OutD1 \\\\\n",
      " \n",
      "9 & OutD1 $\\rightarrow$ 4 $\\rightarrow$ 10 $\\rightarrow$ 9 $\\rightarrow$ OutD1 \\\\\n",
      " \n",
      "\n"
     ]
    }
   ],
   "source": [
    "for key, value in b.items():\n",
    "    min_runtime = min(value, key=value.get)\n",
    "    fitness, value = value[min_runtime]\n",
    "\n",
    "    route = value\n",
    "    #fitness, route = solution\n",
    "    sku, subscript, num_orders = key\n",
    "    print('orders_{}_mean_5_sku_{}{}'.format(str(num_orders), sku, subscript) + \n",
    "          \"\\n--------------------------------------------------------------- \\n\\n\"+\n",
    "          \"{} after {} seconds\".format(str(fitness), str(min_runtime)) + \"\\n\\n\"+\n",
    "          latex_string_from_route(route))"
   ]
  },
  {
   "cell_type": "markdown",
   "metadata": {},
   "source": [
    "#### Read Solution to mixed problem from Pickle"
   ]
  },
  {
   "cell_type": "code",
   "execution_count": 159,
   "metadata": {
    "collapsed": true
   },
   "outputs": [],
   "source": [
    "with open('solutions/mixed16.pickle', 'rb') as handle:\n",
    "    mixed = pickle.load(handle)"
   ]
  },
  {
   "cell_type": "code",
   "execution_count": 160,
   "metadata": {
    "collapsed": true
   },
   "outputs": [],
   "source": [
    "def latex_string_from_mixed_route(route):\n",
    "    latex_string = \"\"\n",
    "    count = 1\n",
    "    for key, value in route.items():\n",
    "        latex_string +=  \"{} & \".format(str(count)) + key.split(\"_\")[0] + \" $\\\\rightarrow$ \"\n",
    "        for i, node in enumerate(value):\n",
    "            latex_string += node +  f\" $\\\\rightarrow$ \"\n",
    "        latex_string += key.split(\"_\")[0] +  \" \\\\\\\\\" + \"\\n \\n\"\n",
    "        count+=1\n",
    "    return latex_string "
   ]
  },
  {
   "cell_type": "code",
   "execution_count": 161,
   "metadata": {},
   "outputs": [
    {
     "name": "stdout",
     "output_type": "stream",
     "text": [
      "orders_20_mean_5_sku_24_a\n",
      "--------------------------------------------------------------- \n",
      "\n",
      "215.5 after 80 seconds\n",
      "\n",
      "1 & 0 $\\rightarrow$ 17 $\\rightarrow$ 16 $\\rightarrow$ 21 $\\rightarrow$ 14 $\\rightarrow$ 22 $\\rightarrow$ 0 \\\\\n",
      " \n",
      "2 & 1 $\\rightarrow$ 0 $\\rightarrow$ 7 $\\rightarrow$ 3 $\\rightarrow$ 1 $\\rightarrow$ 1 \\\\\n",
      " \n",
      "3 & 2 $\\rightarrow$ 23 $\\rightarrow$ 21 $\\rightarrow$ 14 $\\rightarrow$ 16 $\\rightarrow$ 2 \\\\\n",
      " \n",
      "4 & 3 $\\rightarrow$ 17 $\\rightarrow$ 22 $\\rightarrow$ 16 $\\rightarrow$ 21 $\\rightarrow$ 15 $\\rightarrow$ 3 \\\\\n",
      " \n",
      "5 & 5 $\\rightarrow$ 23 $\\rightarrow$ 17 $\\rightarrow$ 16 $\\rightarrow$ 14 $\\rightarrow$ 15 $\\rightarrow$ 5 \\\\\n",
      " \n",
      "6 & 6 $\\rightarrow$ 7 $\\rightarrow$ 2 $\\rightarrow$ 8 $\\rightarrow$ 3 $\\rightarrow$ 1 $\\rightarrow$ 6 $\\rightarrow$ 6 \\\\\n",
      " \n",
      "7 & 7 $\\rightarrow$ 23 $\\rightarrow$ 17 $\\rightarrow$ 16 $\\rightarrow$ 22 $\\rightarrow$ 7 \\\\\n",
      " \n",
      "8 & 8 $\\rightarrow$ 3 $\\rightarrow$ 9 $\\rightarrow$ 8 $\\rightarrow$ 2 $\\rightarrow$ 8 \\\\\n",
      " \n",
      "9 & 4 $\\rightarrow$ 0 $\\rightarrow$ 7 $\\rightarrow$ 6 $\\rightarrow$ 4 \\\\\n",
      " \n",
      "\n",
      "orders_20_mean_5_sku_24_b\n",
      "--------------------------------------------------------------- \n",
      "\n",
      "216.3 after 80 seconds\n",
      "\n",
      "1 & 2 $\\rightarrow$ 23 $\\rightarrow$ 16 $\\rightarrow$ 22 $\\rightarrow$ 2 \\\\\n",
      " \n",
      "2 & 3 $\\rightarrow$ 12 $\\rightarrow$ 21 $\\rightarrow$ 14 $\\rightarrow$ 18 $\\rightarrow$ 3 \\\\\n",
      " \n",
      "3 & 4 $\\rightarrow$ 0 $\\rightarrow$ 6 $\\rightarrow$ 4 \\\\\n",
      " \n",
      "4 & 5 $\\rightarrow$ 17 $\\rightarrow$ 21 $\\rightarrow$ 15 $\\rightarrow$ 22 $\\rightarrow$ 16 $\\rightarrow$ 5 \\\\\n",
      " \n",
      "5 & 6 $\\rightarrow$ 7 $\\rightarrow$ 3 $\\rightarrow$ 1 $\\rightarrow$ 6 $\\rightarrow$ 6 \\\\\n",
      " \n",
      "6 & 8 $\\rightarrow$ 17 $\\rightarrow$ 21 $\\rightarrow$ 14 $\\rightarrow$ 16 $\\rightarrow$ 22 $\\rightarrow$ 8 \\\\\n",
      " \n",
      "7 & 0 $\\rightarrow$ 6 $\\rightarrow$ 1 $\\rightarrow$ 3 $\\rightarrow$ 7 $\\rightarrow$ 0 $\\rightarrow$ 0 \\\\\n",
      " \n",
      "8 & 7 $\\rightarrow$ 23 $\\rightarrow$ 14 $\\rightarrow$ 16 $\\rightarrow$ 7 \\\\\n",
      " \n",
      "9 & 1 $\\rightarrow$ 23 $\\rightarrow$ 16 $\\rightarrow$ 21 $\\rightarrow$ 14 $\\rightarrow$ 17 $\\rightarrow$ 1 \\\\\n",
      " \n",
      "\n"
     ]
    }
   ],
   "source": [
    "for key, value in mixed.items():\n",
    "    min_runtime = min(value, key=value.get)\n",
    "    fitness, value = value[min_runtime]\n",
    "\n",
    "    route = value\n",
    "    #fitness, route = solution\n",
    "    sku, subscript, num_orders = key\n",
    "    print('orders_{}_mean_5_sku_{}{}'.format(str(num_orders), sku, subscript) + \n",
    "          \"\\n--------------------------------------------------------------- \\n\\n\"+\n",
    "          \"{} after {} seconds\".format(str(fitness), str(min_runtime)) + \"\\n\\n\"+\n",
    "          latex_string_from_mixed_route(route))"
   ]
  },
  {
   "cell_type": "markdown",
   "metadata": {},
   "source": [
    "# Read Solution from XML"
   ]
  },
  {
   "cell_type": "code",
   "execution_count": 16,
   "metadata": {
    "collapsed": true
   },
   "outputs": [],
   "source": [
    "def latex_string_from_xml(path):\n",
    "    tree = ET.parse(path)\n",
    "    root = tree.getroot()\n",
    "\n",
    "    collecting = root.get(\"Collecting\")\n",
    "    fitness = []\n",
    "    for ps in root.iter(\"PackStations\"):\n",
    "        latex_string = \"\"\n",
    "        for batch in ps.iter(\"Batch\"):\n",
    "            print(batch)\n",
    "            #latex_string = \"\"\n",
    "            latex_string += \"{} & \".format(str(batch.get(\"BatchNumber\")))\n",
    "            dist = batch.get(\"Distance\")\n",
    "            fitness.append(float(dist))\n",
    "            for edges in batch.findall(\"Edges\"):\n",
    "\n",
    "\n",
    "                for edge in edges.iter(\"Edge\"):\n",
    "                    if edge.get(\"EndNode\") == \"OutD0\" or edge.get(\"EndNode\") == \"OutD1\":\n",
    "                        latex_string += edge.get(\"StartNode\") + f\" $\\\\rightarrow$ \" + edge.get(\"EndNode\") + \"\\\\\\\\\" + \"\\n \\n\"\n",
    "                    else:\n",
    "                        latex_string += edge.get(\"StartNode\") + f\" $\\\\rightarrow$ \" \n",
    "        return latex_string, sum(fitness)"
   ]
  },
  {
   "cell_type": "code",
   "execution_count": 18,
   "metadata": {},
   "outputs": [
    {
     "name": "stdout",
     "output_type": "stream",
     "text": [
      "--------------------------------------------------------------------------------------------\n",
      "split_orders_10_mean_5_sku_24_a_mixed.xml \n",
      "\n",
      "--------------------------------------------------------------------------------------------\n",
      "<Element 'Batch' at 0x000001DABC881F48>\n",
      "<Element 'Batch' at 0x000001DABC899A48>\n",
      "<Element 'Batch' at 0x000001DABC89D3B8>\n",
      "<Element 'Batch' at 0x000001DABC89D908>\n",
      "<Element 'Batch' at 0x000001DABC898048>\n",
      "3 & OutD0 $\\rightarrow$ 12 $\\rightarrow$ 18 $\\rightarrow$ OutD0\\\\\n",
      " \n",
      "4 & OutD0 $\\rightarrow$ 6 $\\rightarrow$ 7 $\\rightarrow$ 1 $\\rightarrow$ OutD0\\\\\n",
      " \n",
      "0 & OutD0 $\\rightarrow$ 6 $\\rightarrow$ OutD0\\\\\n",
      " \n",
      "2 & OutD0 $\\rightarrow$ 0 $\\rightarrow$ 6 $\\rightarrow$ OutD0\\\\\n",
      " \n",
      "1 & OutD0 $\\rightarrow$ 7 $\\rightarrow$ 1 $\\rightarrow$ OutD0\\\\\n",
      " \n",
      "\n",
      "--------------------------------------------------------------------------------------------\n",
      "split_orders_10_mean_5_sku_24_b_mixed.xml \n",
      "\n",
      "--------------------------------------------------------------------------------------------\n",
      "<Element 'Batch' at 0x000001DABC776728>\n",
      "<Element 'Batch' at 0x000001DABC8980E8>\n",
      "<Element 'Batch' at 0x000001DABC8A0098>\n",
      "<Element 'Batch' at 0x000001DABC8A09F8>\n",
      "<Element 'Batch' at 0x000001DABC89DE58>\n",
      "0 & OutD0 $\\rightarrow$ 1 $\\rightarrow$ OutD0\\\\\n",
      " \n",
      "1 & OutD0 $\\rightarrow$ 12 $\\rightarrow$ 18 $\\rightarrow$ OutD0\\\\\n",
      " \n",
      "2 & OutD0 $\\rightarrow$ 7 $\\rightarrow$ 1 $\\rightarrow$ OutD0\\\\\n",
      " \n",
      "4 & OutD0 $\\rightarrow$ 1 $\\rightarrow$ 7 $\\rightarrow$ 6 $\\rightarrow$ OutD0\\\\\n",
      " \n",
      "3 & OutD0 $\\rightarrow$ 6 $\\rightarrow$ 0 $\\rightarrow$ OutD0\\\\\n",
      " \n",
      "\n",
      "--------------------------------------------------------------------------------------------\n",
      "split_orders_10_mean_5_sku_24_mixed.xml \n",
      "\n",
      "--------------------------------------------------------------------------------------------\n",
      "<Element 'Batch' at 0x000001DABC881CC8>\n",
      "<Element 'Batch' at 0x000001DABC89D958>\n",
      "<Element 'Batch' at 0x000001DABC89D2C8>\n",
      "<Element 'Batch' at 0x000001DABC8A3818>\n",
      "<Element 'Batch' at 0x000001DABC8A3E08>\n",
      "0 & OutD0 $\\rightarrow$ 1 $\\rightarrow$ 7 $\\rightarrow$ OutD0\\\\\n",
      " \n",
      "3 & OutD0 $\\rightarrow$ 1 $\\rightarrow$ 6 $\\rightarrow$ OutD0\\\\\n",
      " \n",
      "4 & OutD0 $\\rightarrow$ 7 $\\rightarrow$ 1 $\\rightarrow$ 3 $\\rightarrow$ OutD0\\\\\n",
      " \n",
      "5 & OutD0 $\\rightarrow$ 6 $\\rightarrow$ OutD0\\\\\n",
      " \n",
      "2 & OutD0 $\\rightarrow$ 18 $\\rightarrow$ 17 $\\rightarrow$ OutD0\\\\\n",
      " \n",
      "\n",
      "--------------------------------------------------------------------------------------------\n",
      "split_orders_20_mean_5_sku_24_a_mixed.xml \n",
      "\n",
      "--------------------------------------------------------------------------------------------\n",
      "<Element 'Batch' at 0x000001DABC8A3408>\n",
      "<Element 'Batch' at 0x000001DABC8AB598>\n",
      "<Element 'Batch' at 0x000001DABC8ABBD8>\n",
      "<Element 'Batch' at 0x000001DABC8AC408>\n",
      "<Element 'Batch' at 0x000001DABC8AE048>\n",
      "<Element 'Batch' at 0x000001DABC8AEB88>\n",
      "<Element 'Batch' at 0x000001DABC8B22C8>\n",
      "<Element 'Batch' at 0x000001DABC8B2CC8>\n",
      "0 & OutD0 $\\rightarrow$ 1 $\\rightarrow$ 7 $\\rightarrow$ OutD0\\\\\n",
      " \n",
      "1 & OutD0 $\\rightarrow$ 0 $\\rightarrow$ 6 $\\rightarrow$ OutD0\\\\\n",
      " \n",
      "2 & OutD0 $\\rightarrow$ 6 $\\rightarrow$ 1 $\\rightarrow$ 0 $\\rightarrow$ OutD0\\\\\n",
      " \n",
      "3 & OutD0 $\\rightarrow$ 12 $\\rightarrow$ 18 $\\rightarrow$ OutD0\\\\\n",
      " \n",
      "4 & OutD0 $\\rightarrow$ 7 $\\rightarrow$ 1 $\\rightarrow$ OutD0\\\\\n",
      " \n",
      "5 & OutD0 $\\rightarrow$ 7 $\\rightarrow$ 1 $\\rightarrow$ OutD0\\\\\n",
      " \n",
      "6 & OutD0 $\\rightarrow$ 12 $\\rightarrow$ 18 $\\rightarrow$ OutD0\\\\\n",
      " \n",
      "7 & OutD0 $\\rightarrow$ 1 $\\rightarrow$ 6 $\\rightarrow$ OutD0\\\\\n",
      " \n",
      "\n",
      "--------------------------------------------------------------------------------------------\n",
      "split_orders_20_mean_5_sku_24_b_mixed.xml \n",
      "\n",
      "--------------------------------------------------------------------------------------------\n",
      "<Element 'Batch' at 0x000001DABC8B5BD8>\n",
      "<Element 'Batch' at 0x000001DABC89D818>\n",
      "<Element 'Batch' at 0x000001DABC8B2D68>\n",
      "<Element 'Batch' at 0x000001DABC8B2688>\n",
      "<Element 'Batch' at 0x000001DABC8B1638>\n",
      "<Element 'Batch' at 0x000001DABC8B1E58>\n",
      "<Element 'Batch' at 0x000001DABC8AD4F8>\n",
      "<Element 'Batch' at 0x000001DABC8ADEF8>\n",
      "0 & OutD0 $\\rightarrow$ 12 $\\rightarrow$ 18 $\\rightarrow$ OutD0\\\\\n",
      " \n",
      "1 & OutD0 $\\rightarrow$ 12 $\\rightarrow$ 18 $\\rightarrow$ OutD0\\\\\n",
      " \n",
      "2 & OutD0 $\\rightarrow$ 1 $\\rightarrow$ 6 $\\rightarrow$ OutD0\\\\\n",
      " \n",
      "4 & OutD0 $\\rightarrow$ 7 $\\rightarrow$ 1 $\\rightarrow$ OutD0\\\\\n",
      " \n",
      "5 & OutD0 $\\rightarrow$ 7 $\\rightarrow$ 1 $\\rightarrow$ OutD0\\\\\n",
      " \n",
      "6 & OutD0 $\\rightarrow$ 6 $\\rightarrow$ 0 $\\rightarrow$ OutD0\\\\\n",
      " \n",
      "7 & OutD0 $\\rightarrow$ 12 $\\rightarrow$ 23 $\\rightarrow$ 18 $\\rightarrow$ 14 $\\rightarrow$ OutD0\\\\\n",
      " \n",
      "3 & OutD0 $\\rightarrow$ 6 $\\rightarrow$ OutD0\\\\\n",
      " \n",
      "\n",
      "--------------------------------------------------------------------------------------------\n",
      "split_orders_20_mean_5_sku_24_mixed.xml \n",
      "\n",
      "--------------------------------------------------------------------------------------------\n",
      "<Element 'Batch' at 0x000001DABC8B0F98>\n",
      "<Element 'Batch' at 0x000001DABC8AC688>\n",
      "<Element 'Batch' at 0x000001DABC8AF098>\n",
      "<Element 'Batch' at 0x000001DABC8AF9F8>\n",
      "<Element 'Batch' at 0x000001DABC8B34F8>\n",
      "<Element 'Batch' at 0x000001DABC8B3DB8>\n",
      "<Element 'Batch' at 0x000001DABC8B56D8>\n",
      "<Element 'Batch' at 0x000001DABC8B5408>\n",
      "<Element 'Batch' at 0x000001DABC8B2868>\n",
      "<Element 'Batch' at 0x000001DABC8B2D18>\n",
      "0 & OutD0 $\\rightarrow$ 12 $\\rightarrow$ 18 $\\rightarrow$ OutD0\\\\\n",
      " \n",
      "1 & OutD0 $\\rightarrow$ 6 $\\rightarrow$ 0 $\\rightarrow$ OutD0\\\\\n",
      " \n",
      "2 & OutD0 $\\rightarrow$ 7 $\\rightarrow$ 1 $\\rightarrow$ OutD0\\\\\n",
      " \n",
      "3 & OutD0 $\\rightarrow$ 18 $\\rightarrow$ 12 $\\rightarrow$ OutD0\\\\\n",
      " \n",
      "5 & OutD0 $\\rightarrow$ 18 $\\rightarrow$ 12 $\\rightarrow$ OutD0\\\\\n",
      " \n",
      "6 & OutD0 $\\rightarrow$ 12 $\\rightarrow$ 13 $\\rightarrow$ OutD0\\\\\n",
      " \n",
      "7 & OutD0 $\\rightarrow$ 6 $\\rightarrow$ OutD0\\\\\n",
      " \n",
      "8 & OutD0 $\\rightarrow$ 1 $\\rightarrow$ 7 $\\rightarrow$ OutD0\\\\\n",
      " \n",
      "9 & OutD0 $\\rightarrow$ 6 $\\rightarrow$ 1 $\\rightarrow$ OutD0\\\\\n",
      " \n",
      "4 & OutD0 $\\rightarrow$ 0 $\\rightarrow$ OutD0\\\\\n",
      " \n",
      "\n"
     ]
    }
   ],
   "source": [
    "SKUS = [\"24\", \"360\"]\n",
    "NUM_ORDERS = [\"10\", \"20\"]\n",
    "SUBSCRIPTS = [\"_a\", \"_b\", \"\"]\n",
    "POLICIES = [\"dedicated\", \"mixed\"]\n",
    "MEANS = [\"5\", \"1x6\"]\n",
    "fitness = {}\n",
    "for policy in POLICIES:\n",
    "    for sku in SKUS:\n",
    "        for orders in NUM_ORDERS:\n",
    "            for mean in MEANS:\n",
    "                for subscript in SUBSCRIPTS:                \n",
    "                    file = 'split_orders_{}_mean_{}_sku_{}{}_{}.xml'.format(orders, mean, sku, subscript, policy)\n",
    "                    path = '../instance_demo/solutions/' + file\n",
    "                    if not os.path.isfile(path):\n",
    "                        continue\n",
    "                    print(\"--------------------------------------------------------------------------------------------\")\n",
    "                    print(file +\" \\n\")\n",
    "                    print(\"--------------------------------------------------------------------------------------------\")\n",
    "                    result = latex_string_from_xml(path)\n",
    "                    l_string = result[0] \n",
    "                    fitness[policy, sku, orders, mean, subscript] = result[1]\n",
    "                    print(l_string)"
   ]
  },
  {
   "cell_type": "code",
   "execution_count": 19,
   "metadata": {},
   "outputs": [
    {
     "data": {
      "text/plain": [
       "{('mixed', '24', '10', '5', ''): 111.10000000000001,\n",
       " ('mixed', '24', '10', '5', '_a'): 96.69999999999999,\n",
       " ('mixed', '24', '10', '5', '_b'): 98.5,\n",
       " ('mixed', '24', '20', '5', ''): 198.6,\n",
       " ('mixed', '24', '20', '5', '_a'): 159.0,\n",
       " ('mixed', '24', '20', '5', '_b'): 170.6}"
      ]
     },
     "execution_count": 19,
     "metadata": {},
     "output_type": "execute_result"
    }
   ],
   "source": [
    "fitness"
   ]
  },
  {
   "cell_type": "markdown",
   "metadata": {},
   "source": [
    "# compare VNS and ILS"
   ]
  },
  {
   "cell_type": "code",
   "execution_count": 86,
   "metadata": {
    "collapsed": true
   },
   "outputs": [],
   "source": [
    "with open('solutions/mixed_fitness_ils_vns.pickle', 'rb') as handle:\n",
    "    mixed = pickle.load(handle)"
   ]
  },
  {
   "cell_type": "code",
   "execution_count": 87,
   "metadata": {
    "collapsed": true
   },
   "outputs": [],
   "source": [
    "df = pd.DataFrame.from_dict(mixed, orient=\"index\")"
   ]
  },
  {
   "cell_type": "code",
   "execution_count": 88,
   "metadata": {},
   "outputs": [
    {
     "data": {
      "text/html": [
       "<div>\n",
       "<style scoped>\n",
       "    .dataframe tbody tr th:only-of-type {\n",
       "        vertical-align: middle;\n",
       "    }\n",
       "\n",
       "    .dataframe tbody tr th {\n",
       "        vertical-align: top;\n",
       "    }\n",
       "\n",
       "    .dataframe thead th {\n",
       "        text-align: right;\n",
       "    }\n",
       "</style>\n",
       "<table border=\"1\" class=\"dataframe\">\n",
       "  <thead>\n",
       "    <tr style=\"text-align: right;\">\n",
       "      <th></th>\n",
       "      <th>0</th>\n",
       "    </tr>\n",
       "  </thead>\n",
       "  <tbody>\n",
       "    <tr>\n",
       "      <th>(360, _a, 20, 5, ILS)</th>\n",
       "      <td>676.3</td>\n",
       "    </tr>\n",
       "  </tbody>\n",
       "</table>\n",
       "</div>"
      ],
      "text/plain": [
       "                           0\n",
       "(360, _a, 20, 5, ILS)  676.3"
      ]
     },
     "execution_count": 88,
     "metadata": {},
     "output_type": "execute_result"
    }
   ],
   "source": [
    "df"
   ]
  },
  {
   "cell_type": "code",
   "execution_count": 27,
   "metadata": {
    "collapsed": true
   },
   "outputs": [],
   "source": [
    "df=pd.concat([df.reset_index()[\"index\"].apply(pd.Series), df.iloc[:,0].reset_index(drop=True)], axis=1)\n",
    "df.columns = [\"sku\", \"subscript\", \"orders\", \"mean\", \"method\", \"fitness\"]"
   ]
  },
  {
   "cell_type": "code",
   "execution_count": 40,
   "metadata": {
    "collapsed": true
   },
   "outputs": [],
   "source": [
    "df2=df.copy()\n",
    "df2[\"fitness\"] = [48.6, \n",
    "                 133.6,\n",
    "                 249.6,\n",
    "                 141.4,\n",
    "                 215.5,\n",
    "                 130.1,\n",
    "                 216.3,\n",
    "                 373.3,\n",
    "                 703.8,\n",
    "                 468.3,\n",
    "                 658.3, \n",
    "                 362.5,\n",
    "                 696.3]\n",
    "df2.drop(\"method\", axis=1, inplace=True)"
   ]
  },
  {
   "cell_type": "code",
   "execution_count": 61,
   "metadata": {
    "collapsed": true
   },
   "outputs": [],
   "source": [
    "comp_df = df.merge(df2, left_on=[\"sku\", \"subscript\", \"orders\", \"mean\"],\n",
    "                  right_on=[\"sku\", \"subscript\", \"orders\", \"mean\"])\n",
    "comp_df.drop(\"method\", axis=1, inplace=True)"
   ]
  },
  {
   "cell_type": "code",
   "execution_count": 62,
   "metadata": {
    "collapsed": true
   },
   "outputs": [],
   "source": [
    "comp_df.columns=[\"sku\", \"subscript\", \"orders\", \"mean\", \"ILS\", \"VNS\"]\n"
   ]
  },
  {
   "cell_type": "code",
   "execution_count": 63,
   "metadata": {
    "collapsed": true
   },
   "outputs": [],
   "source": [
    "comp_df[\"gap in %\"] = (comp_df.ILS-comp_df.VNS)/comp_df.VNS*100"
   ]
  },
  {
   "cell_type": "code",
   "execution_count": 78,
   "metadata": {},
   "outputs": [
    {
     "name": "stderr",
     "output_type": "stream",
     "text": [
      "C:\\ProgramData\\Anaconda3\\lib\\site-packages\\ipykernel_launcher.py:1: FutureWarning: Indexing with multiple keys (implicitly converted to a tuple of keys) will be deprecated, use a list instead.\n",
      "  \"\"\"Entry point for launching an IPython kernel.\n"
     ]
    }
   ],
   "source": [
    "agg_df = comp_df.groupby([\"sku\", \"orders\", \"mean\"])[\"ILS\", \"VNS\"].sum()"
   ]
  },
  {
   "cell_type": "code",
   "execution_count": 79,
   "metadata": {
    "collapsed": true
   },
   "outputs": [],
   "source": [
    "agg_df[\"gap in %\"] = (agg_df.ILS-agg_df.VNS)/agg_df.VNS*100"
   ]
  },
  {
   "cell_type": "code",
   "execution_count": 84,
   "metadata": {},
   "outputs": [
    {
     "name": "stdout",
     "output_type": "stream",
     "text": [
      "\\begin{tabular}{lllrrr}\n",
      "\\toprule\n",
      "    &    &   &     ILS &     VNS &  gap in \\% \\\\\n",
      "sku & orders & mean &         &         &           \\\\\n",
      "\\midrule\n",
      "24 & 10 & 1x6 &    46.0 &    48.6 & -5.349794 \\\\\n",
      "    &    & 5 &   406.9 &   405.1 &  0.444335 \\\\\n",
      "    & 20 & 5 &   680.4 &   681.4 & -0.146757 \\\\\n",
      "360 & 10 & 5 &  1219.3 &  1204.1 &  1.262354 \\\\\n",
      "    & 20 & 5 &  2094.4 &  2058.4 &  1.748931 \\\\\n",
      "\\bottomrule\n",
      "\\end{tabular}\n",
      "\n"
     ]
    }
   ],
   "source": [
    "print(agg_df.to_latex())"
   ]
  },
  {
   "cell_type": "code",
   "execution_count": 85,
   "metadata": {},
   "outputs": [
    {
     "name": "stdout",
     "output_type": "stream",
     "text": [
      "\\begin{tabular}{lllrlrrr}\n",
      "\\toprule\n",
      "{} &  sku & subscript &  orders & mean &    ILS &    VNS &  gap in \\% \\\\\n",
      "\\midrule\n",
      "0  &   24 &           &      10 &  1x6 &   46.0 &   48.6 & -5.349794 \\\\\n",
      "1  &   24 &           &      10 &    5 &  135.4 &  133.6 &  1.347305 \\\\\n",
      "2  &   24 &           &      20 &    5 &  250.4 &  249.6 &  0.320513 \\\\\n",
      "3  &   24 &        \\_a &      10 &    5 &  141.4 &  141.4 &  0.000000 \\\\\n",
      "4  &   24 &        \\_a &      20 &    5 &  213.7 &  215.5 & -0.835267 \\\\\n",
      "5  &   24 &        \\_b &      10 &    5 &  130.1 &  130.1 &  0.000000 \\\\\n",
      "6  &   24 &        \\_b &      20 &    5 &  216.3 &  216.3 &  0.000000 \\\\\n",
      "7  &  360 &           &      10 &    5 &  379.8 &  373.3 &  1.741227 \\\\\n",
      "8  &  360 &           &      20 &    5 &  715.8 &  703.8 &  1.705030 \\\\\n",
      "9  &  360 &        \\_a &      10 &    5 &  472.7 &  468.3 &  0.939569 \\\\\n",
      "10 &  360 &        \\_a &      20 &    5 &  676.3 &  658.3 &  2.734316 \\\\\n",
      "11 &  360 &        \\_b &      10 &    5 &  366.8 &  362.5 &  1.186207 \\\\\n",
      "12 &  360 &        \\_b &      20 &    5 &  702.3 &  696.3 &  0.861698 \\\\\n",
      "\\bottomrule\n",
      "\\end{tabular}\n",
      "\n"
     ]
    }
   ],
   "source": [
    "print(comp_df.to_latex())"
   ]
  },
  {
   "cell_type": "code",
   "execution_count": null,
   "metadata": {
    "collapsed": true
   },
   "outputs": [],
   "source": []
  }
 ],
 "metadata": {
  "kernelspec": {
   "display_name": "Python 3",
   "language": "python",
   "name": "python3"
  },
  "language_info": {
   "codemirror_mode": {
    "name": "ipython",
    "version": 3
   },
   "file_extension": ".py",
   "mimetype": "text/x-python",
   "name": "python",
   "nbconvert_exporter": "python",
   "pygments_lexer": "ipython3",
   "version": "3.6.2"
  }
 },
 "nbformat": 4,
 "nbformat_minor": 2
}
