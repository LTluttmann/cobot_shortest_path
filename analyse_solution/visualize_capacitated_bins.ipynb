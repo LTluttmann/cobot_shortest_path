{
 "cells": [
  {
   "cell_type": "code",
   "execution_count": 1,
   "metadata": {
    "collapsed": true
   },
   "outputs": [],
   "source": [
    "import matplotlib.pyplot as plt\n",
    "from matplotlib import patches\n",
    "import numpy as np\n",
    "import pandas as pd\n",
    "import pickle"
   ]
  },
  {
   "cell_type": "markdown",
   "metadata": {},
   "source": [
    "# Analysing Workload of Cobots / Batches"
   ]
  },
  {
   "cell_type": "code",
   "execution_count": 2,
   "metadata": {
    "collapsed": true
   },
   "outputs": [],
   "source": [
    "listee = {'OutD0_0': [16.59], 'OutD0_1': [9.5, 8.25], \n",
    "          'OutD0_3': [11.79, 5.37, 0.69], 'OutD0_4': [10.269999999999998, 2.93, 4.25], \n",
    "          'OutD0_5': [1.61, 13.52, 1.9], 'OutD0_7': [2.51, 8.88, 3.27], \n",
    "          'OutD0_8': [17.230000000000004], 'OutD1_9': [15.120000000000001], \n",
    "          'OutD0_10': [16.18], 'OutD0_2': [7.06, 5.01]}"
   ]
  },
  {
   "cell_type": "code",
   "execution_count": 3,
   "metadata": {
    "collapsed": true
   },
   "outputs": [],
   "source": [
    "listee = {'OutD0_0': [17.230000000000004], 'OutD0_1': [9.5, 8.25], 'OutD0_2': [1.9, 3.27], \n",
    "          'OutD1_3': [11.79, 5.37, 0.69], 'OutD1_4': [10.269999999999998, 2.93, 4.25], \n",
    "          'OutD1_5': [16.18, 1.61], 'OutD1_6': [8.88, 7.06], 'OutD1_7': [5.01, 2.51], \n",
    "          'OutD1_8': [13.52], 'OutD1_9': [16.59], 'OutD1_10': [15.120000000000001]}"
   ]
  },
  {
   "cell_type": "code",
   "execution_count": 4,
   "metadata": {
    "scrolled": true
   },
   "outputs": [
    {
     "data": {
      "image/png": "[encoded data removed]",
      "text/plain": [
       "<Figure size 900x540 with 1 Axes>"
      ]
     },
     "metadata": {},
     "output_type": "display_data"
    }
   ],
   "source": [
    "width = 2\n",
    "toggle_h = .3\n",
    "toggle_v = .01\n",
    "fig, ax = plt.subplots()\n",
    "for count, value in enumerate(listee.values()):\n",
    "    curr_height = 0\n",
    "    for height in value:\n",
    "        rect = patches.Rectangle((count*width, curr_height), \n",
    "                                 width=width, height=height,\n",
    "                                 facecolor = '#333F50', edgecolor = 'w', lw=2)\n",
    "        curr_height += height+toggle_v        \n",
    "        ax.add_patch(rect)\n",
    "ax.autoscale_view()\n",
    "ax.figure.canvas.draw()\n",
    "\n",
    "box_widths = np.arange(0, len(listee.keys())*width+1, width)\n",
    "xticks = []\n",
    "for first, second in zip(box_widths, box_widths[1:]):\n",
    "    xticks.append((first + second) / 2)\n",
    "ax.set_xticks(xticks)\n",
    "ax.set_xticklabels(listee.keys())\n",
    "ax.axhline(y=18, c=\"#C00000\", lw=2, linestyle=\"--\")\n",
    "ax.set_yticks(np.arange(0, 19, 2))\n",
    "ax.set_yticklabels(list(np.arange(0, 17, 2))+[\"$\\kappa$\"])\n",
    "ax.tick_params(axis=\"y\", which='major', labelsize=14)\n",
    "ax.tick_params(axis='x', which='major', labelsize=12, rotation=45)\n",
    "ax.set_ylabel(\"weight\", fontsize=16)\n",
    "ax.set_xlabel(\"Batch ID\", fontsize=16)\n",
    "ax.set_ylim((0,18.5))\n",
    "plt.title(\"Workload of Cobots for Greedy Heuristic\", fontsize=16)\n",
    "fig.set_size_inches(12.5, 7.5)\n",
    "#ax.set_aspect('equal')\n",
    "plt.savefig('../../../figures/sol.eps',bbox_inches='tight', transparent=\"False\", format=\"eps\")\n",
    "plt.show()"
   ]
  },
  {
   "cell_type": "markdown",
   "metadata": {},
   "source": [
    "# Runtime Analysis"
   ]
  },
  {
   "cell_type": "code",
   "execution_count": 5,
   "metadata": {
    "collapsed": true
   },
   "outputs": [],
   "source": [
    "# sku 24, orders_10_mean_1x6_sku, dedicated\n",
    "runtime_dict_24_10 = {0: 85.1, 5: 66.2, 10: 64.39999999999999, \n",
    "                      20: 64.39999999999999, 30: 64.4, 50: 64.4, 70: 64.39999999999999}\n",
    "runtime_dict_24_10 = {k: (v -  minimum) / v for minimum in (min(runtime_dict_24_10.values()),) for k, v in runtime_dict_24_10.items()}"
   ]
  },
  {
   "cell_type": "code",
   "execution_count": 6,
   "metadata": {
    "collapsed": true
   },
   "outputs": [],
   "source": [
    "runtime_dict_360_10 = {0: 819.5999999999997, 5: 750.8999999999996, 10: 755.1999999999998, \n",
    "                       20: 738.5999999999997, 30: 763.1999999999998, 50: 748.7999999999997, 70: 741.8999999999997}\n",
    "runtime_dict_360_10 = {k: (v - minimum) / v for minimum in (min(runtime_dict_360_10.values()),) for k, v in runtime_dict_360_10.items()}"
   ]
  },
  {
   "cell_type": "code",
   "execution_count": 7,
   "metadata": {
    "collapsed": true
   },
   "outputs": [],
   "source": [
    "runtime_dict_24_20 = {0: 420.5, 5: 381.4, 10: 377.8, 20: 377.8, 30: 376.0, 50: 362.2, \n",
    "                      80: 362.19999999999993, 120: 362.19999999999993}"
   ]
  },
  {
   "cell_type": "code",
   "execution_count": 8,
   "metadata": {
    "collapsed": true
   },
   "outputs": [],
   "source": [
    "df_24_10 = pd.DataFrame.from_dict(runtime_dict_24_10, orient=\"index\").reset_index()\n",
    "df_24_10.columns = [\"Runtime\", \"Fitness (24, 10)\"]\n",
    "df_360_10 = pd.DataFrame.from_dict(runtime_dict_360_10, orient=\"index\").reset_index()\n",
    "df_360_10.columns = [\"Runtime\", \"Fitness (360, 10)\"]"
   ]
  },
  {
   "cell_type": "code",
   "execution_count": 9,
   "metadata": {
    "collapsed": true
   },
   "outputs": [],
   "source": [
    "df = df_24_10.merge(df_360_10)"
   ]
  },
  {
   "cell_type": "code",
   "execution_count": 10,
   "metadata": {},
   "outputs": [
    {
     "data": {
      "image/png": "[encoded data removed]",
      "text/plain": [
       "<Figure size 432x288 with 1 Axes>"
      ]
     },
     "metadata": {},
     "output_type": "display_data"
    }
   ],
   "source": [
    "df.plot(x=\"Runtime\")\n",
    "plt.ylabel(\"Deviation from minimum Fitness\")\n",
    "plt.show()"
   ]
  },
  {
   "cell_type": "code",
   "execution_count": 11,
   "metadata": {},
   "outputs": [
    {
     "data": {
      "image/png": "[encoded data removed]",
      "text/plain": [
       "<Figure size 432x288 with 1 Axes>"
      ]
     },
     "metadata": {},
     "output_type": "display_data"
    }
   ],
   "source": [
    "df_24_10 = pd.DataFrame.from_dict(runtime_dict_24_20, orient=\"index\").reset_index()\n",
    "df_24_10.columns = [\"Runtime\", \"Fitness (24, 20)\"]\n",
    "df_24_10.plot(x=\"Runtime\")\n",
    "plt.ylabel(\"Deviation from minimum Fitness\")\n",
    "plt.show()"
   ]
  },
  {
   "cell_type": "code",
   "execution_count": 12,
   "metadata": {
    "collapsed": true
   },
   "outputs": [],
   "source": [
    "a = {'OutD1_1': ['7', '2', '9', '10'], 'OutD0_3': ['7', '2', '10', '11', '16'], \n",
    "     'OutD0_6': ['15', '16', '11', '10', '9', '2', '7'], 'OutD1_10': ['15', '1', '2', '9', '10', '4', '11'], \n",
    "     'OutD0_7': ['1', '2', '10', '4', '11', '16', '15'], 'OutD0_2': ['7', '1', '2', '9', '4', '11', '16', '15'], \n",
    "     'OutD1_4': ['1', '9', '10', '11'], 'OutD0_8': ['4', '10', '2', '7'], \n",
    "     'OutD0_5': ['1', '7', '2', '9', '11', '16', '15'], 'OutD0_9': ['1', '9', '10', '4', '11', '15']}"
   ]
  },
  {
   "cell_type": "markdown",
   "metadata": {},
   "source": [
    "### Get Latex Code from Cobot Tours"
   ]
  },
  {
   "cell_type": "code",
   "execution_count": 50,
   "metadata": {
    "collapsed": true
   },
   "outputs": [],
   "source": [
    "with open('solutions/dedicated3.pickle', 'rb') as handle:\n",
    "    b = pickle.load(handle)"
   ]
  },
  {
   "cell_type": "code",
   "execution_count": 51,
   "metadata": {
    "collapsed": true
   },
   "outputs": [],
   "source": [
    "def latex_string_from_route(route):\n",
    "    latex_string = \"\"\n",
    "    count = 1\n",
    "    for key, value in route.items():\n",
    "        latex_string +=  \"{} & \".format(str(count))\n",
    "        for i, node in enumerate(value):\n",
    "            if i == len(value)-1:\n",
    "                latex_string += node\n",
    "            else:\n",
    "                latex_string += node +  f\" $\\\\rightarrow$ \"\n",
    "        latex_string += \" \\\\\\\\\" + \"\\n \\n\"\n",
    "        count+=1\n",
    "    return latex_string "
   ]
  },
  {
   "cell_type": "code",
   "execution_count": 52,
   "metadata": {},
   "outputs": [
    {
     "name": "stdout",
     "output_type": "stream",
     "text": [
      "orders_20_mean_5_sku_24\n",
      "--------------------------------------------------------------- \n",
      "\n",
      "374.19999999999993 after 20 seconds\n",
      "\n",
      "1 & OutD1 $\\rightarrow$ 2 $\\rightarrow$ 7 $\\rightarrow$ 9 $\\rightarrow$ 10 $\\rightarrow$ OutD1 \\\\\n",
      " \n",
      "2 & OutD0 $\\rightarrow$ 15 $\\rightarrow$ 16 $\\rightarrow$ 11 $\\rightarrow$ 4 $\\rightarrow$ 9 $\\rightarrow$ 2 $\\rightarrow$ 1 $\\rightarrow$ OutD0 \\\\\n",
      " \n",
      "3 & OutD0 $\\rightarrow$ 15 $\\rightarrow$ 16 $\\rightarrow$ 11 $\\rightarrow$ 10 $\\rightarrow$ 9 $\\rightarrow$ 2 $\\rightarrow$ 7 $\\rightarrow$ OutD0 \\\\\n",
      " \n",
      "4 & OutD1 $\\rightarrow$ 4 $\\rightarrow$ 10 $\\rightarrow$ 11 $\\rightarrow$ 16 $\\rightarrow$ 15 $\\rightarrow$ OutD1 \\\\\n",
      " \n",
      "5 & OutD1 $\\rightarrow$ 16 $\\rightarrow$ 15 $\\rightarrow$ 1 $\\rightarrow$ 7 $\\rightarrow$ 2 $\\rightarrow$ 10 $\\rightarrow$ 11 $\\rightarrow$ OutD1 \\\\\n",
      " \n",
      "6 & OutD0 $\\rightarrow$ 16 $\\rightarrow$ 11 $\\rightarrow$ 10 $\\rightarrow$ 2 $\\rightarrow$ 7 $\\rightarrow$ OutD0 \\\\\n",
      " \n",
      "7 & OutD1 $\\rightarrow$ 15 $\\rightarrow$ 1 $\\rightarrow$ 2 $\\rightarrow$ 9 $\\rightarrow$ 4 $\\rightarrow$ OutD1 \\\\\n",
      " \n",
      "8 & OutD0 $\\rightarrow$ 4 $\\rightarrow$ 10 $\\rightarrow$ 2 $\\rightarrow$ 7 $\\rightarrow$ OutD0 \\\\\n",
      " \n",
      "9 & OutD0 $\\rightarrow$ 15 $\\rightarrow$ 11 $\\rightarrow$ 4 $\\rightarrow$ 10 $\\rightarrow$ 9 $\\rightarrow$ 2 $\\rightarrow$ 1 $\\rightarrow$ OutD0 \\\\\n",
      " \n",
      "10 & OutD1 $\\rightarrow$ 11 $\\rightarrow$ 10 $\\rightarrow$ 4 $\\rightarrow$ 9 $\\rightarrow$ 1 $\\rightarrow$ 15 $\\rightarrow$ OutD1 \\\\\n",
      " \n",
      "\n",
      "orders_20_mean_5_sku_360\n",
      "--------------------------------------------------------------- \n",
      "\n",
      "1463.0999999999995 after 300 seconds\n",
      "\n",
      "1 & OutD0 $\\rightarrow$ 215 $\\rightarrow$ 217 $\\rightarrow$ 144 $\\rightarrow$ 74 $\\rightarrow$ 67 $\\rightarrow$ OutD0 \\\\\n",
      " \n",
      "2 & OutD0 $\\rightarrow$ 150 $\\rightarrow$ 128 $\\rightarrow$ 74 $\\rightarrow$ 47 $\\rightarrow$ 23 $\\rightarrow$ 144 $\\rightarrow$ 172 $\\rightarrow$ 349 $\\rightarrow$ 215 $\\rightarrow$ OutD0 \\\\\n",
      " \n",
      "3 & OutD1 $\\rightarrow$ 144 $\\rightarrow$ 172 $\\rightarrow$ 67 $\\rightarrow$ 47 $\\rightarrow$ 23 $\\rightarrow$ 28 $\\rightarrow$ 266 $\\rightarrow$ 349 $\\rightarrow$ OutD1 \\\\\n",
      " \n",
      "4 & OutD0 $\\rightarrow$ 129 $\\rightarrow$ 133 $\\rightarrow$ 74 $\\rightarrow$ 47 $\\rightarrow$ 51 $\\rightarrow$ 172 $\\rightarrow$ 349 $\\rightarrow$ 215 $\\rightarrow$ OutD0 \\\\\n",
      " \n",
      "5 & OutD1 $\\rightarrow$ 23 $\\rightarrow$ 51 $\\rightarrow$ 47 $\\rightarrow$ 79 $\\rightarrow$ 215 $\\rightarrow$ 349 $\\rightarrow$ 172 $\\rightarrow$ 144 $\\rightarrow$ OutD1 \\\\\n",
      " \n",
      "6 & OutD1 $\\rightarrow$ 144 $\\rightarrow$ 172 $\\rightarrow$ 133 $\\rightarrow$ 79 $\\rightarrow$ 47 $\\rightarrow$ 23 $\\rightarrow$ 349 $\\rightarrow$ OutD1 \\\\\n",
      " \n",
      "7 & OutD1 $\\rightarrow$ 23 $\\rightarrow$ 51 $\\rightarrow$ 47 $\\rightarrow$ 35 $\\rightarrow$ 36 $\\rightarrow$ 14 $\\rightarrow$ 74 $\\rightarrow$ 79 $\\rightarrow$ OutD1 \\\\\n",
      " \n",
      "8 & OutD1 $\\rightarrow$ 51 $\\rightarrow$ 36 $\\rightarrow$ 14 $\\rightarrow$ 67 $\\rightarrow$ 74 $\\rightarrow$ 128 $\\rightarrow$ 129 $\\rightarrow$ 172 $\\rightarrow$ 266 $\\rightarrow$ OutD1 \\\\\n",
      " \n",
      "9 & OutD0 $\\rightarrow$ 215 $\\rightarrow$ 217 $\\rightarrow$ 266 $\\rightarrow$ 28 $\\rightarrow$ 144 $\\rightarrow$ 74 $\\rightarrow$ 129 $\\rightarrow$ OutD0 \\\\\n",
      " \n",
      "10 & OutD1 $\\rightarrow$ 266 $\\rightarrow$ 349 $\\rightarrow$ 215 $\\rightarrow$ 150 $\\rightarrow$ 67 $\\rightarrow$ 14 $\\rightarrow$ 51 $\\rightarrow$ OutD1 \\\\\n",
      " \n",
      "\n",
      "orders_20_mean_5_sku_360_a\n",
      "--------------------------------------------------------------- \n",
      "\n",
      "1284.7999999999995 after 80 seconds\n",
      "\n",
      "1 & OutD0 $\\rightarrow$ 35 $\\rightarrow$ 14 $\\rightarrow$ 79 $\\rightarrow$ 74 $\\rightarrow$ 128 $\\rightarrow$ 150 $\\rightarrow$ 215 $\\rightarrow$ 217 $\\rightarrow$ OutD0 \\\\\n",
      " \n",
      "2 & OutD1 $\\rightarrow$ 23 $\\rightarrow$ 51 $\\rightarrow$ 47 $\\rightarrow$ 14 $\\rightarrow$ 36 $\\rightarrow$ 35 $\\rightarrow$ 150 $\\rightarrow$ 128 $\\rightarrow$ 129 $\\rightarrow$ 172 $\\rightarrow$ OutD1 \\\\\n",
      " \n",
      "3 & OutD1 $\\rightarrow$ 266 $\\rightarrow$ 217 $\\rightarrow$ 129 $\\rightarrow$ 67 $\\rightarrow$ 51 $\\rightarrow$ 23 $\\rightarrow$ OutD1 \\\\\n",
      " \n",
      "4 & OutD0 $\\rightarrow$ 67 $\\rightarrow$ 51 $\\rightarrow$ 36 $\\rightarrow$ 150 $\\rightarrow$ 128 $\\rightarrow$ 172 $\\rightarrow$ 217 $\\rightarrow$ 215 $\\rightarrow$ OutD0 \\\\\n",
      " \n",
      "5 & OutD1 $\\rightarrow$ 23 $\\rightarrow$ 35 $\\rightarrow$ 14 $\\rightarrow$ 79 $\\rightarrow$ 74 $\\rightarrow$ 67 $\\rightarrow$ 150 $\\rightarrow$ 215 $\\rightarrow$ 266 $\\rightarrow$ OutD1 \\\\\n",
      " \n",
      "6 & OutD0 $\\rightarrow$ 150 $\\rightarrow$ 128 $\\rightarrow$ 74 $\\rightarrow$ 67 $\\rightarrow$ 14 $\\rightarrow$ 47 $\\rightarrow$ 51 $\\rightarrow$ 349 $\\rightarrow$ 215 $\\rightarrow$ OutD0 \\\\\n",
      " \n",
      "7 & OutD1 $\\rightarrow$ 28 $\\rightarrow$ 51 $\\rightarrow$ 47 $\\rightarrow$ 36 $\\rightarrow$ 35 $\\rightarrow$ 150 $\\rightarrow$ 128 $\\rightarrow$ 172 $\\rightarrow$ 144 $\\rightarrow$ 266 $\\rightarrow$ OutD1 \\\\\n",
      " \n",
      "8 & OutD1 $\\rightarrow$ 23 $\\rightarrow$ 47 $\\rightarrow$ 14 $\\rightarrow$ 36 $\\rightarrow$ 35 $\\rightarrow$ 215 $\\rightarrow$ 150 $\\rightarrow$ 129 $\\rightarrow$ 172 $\\rightarrow$ OutD1 \\\\\n",
      " \n",
      "9 & OutD1 $\\rightarrow$ 28 $\\rightarrow$ 23 $\\rightarrow$ 51 $\\rightarrow$ 47 $\\rightarrow$ 35 $\\rightarrow$ 14 $\\rightarrow$ 349 $\\rightarrow$ 266 $\\rightarrow$ OutD1 \\\\\n",
      " \n",
      "\n",
      "orders_20_mean_5_sku_360_b\n",
      "--------------------------------------------------------------- \n",
      "\n",
      "1427.299999999999 after 300 seconds\n",
      "\n",
      "1 & OutD0 $\\rightarrow$ 150 $\\rightarrow$ 128 $\\rightarrow$ 74 $\\rightarrow$ 47 $\\rightarrow$ 266 $\\rightarrow$ 217 $\\rightarrow$ 215 $\\rightarrow$ OutD0 \\\\\n",
      " \n",
      "2 & OutD1 $\\rightarrow$ 172 $\\rightarrow$ 129 $\\rightarrow$ 128 $\\rightarrow$ 150 $\\rightarrow$ 35 $\\rightarrow$ 14 $\\rightarrow$ 47 $\\rightarrow$ 74 $\\rightarrow$ 79 $\\rightarrow$ OutD1 \\\\\n",
      " \n",
      "3 & OutD1 $\\rightarrow$ 266 $\\rightarrow$ 349 $\\rightarrow$ 217 $\\rightarrow$ 129 $\\rightarrow$ 47 $\\rightarrow$ 67 $\\rightarrow$ 79 $\\rightarrow$ OutD1 \\\\\n",
      " \n",
      "4 & OutD0 $\\rightarrow$ 150 $\\rightarrow$ 35 $\\rightarrow$ 79 $\\rightarrow$ 47 $\\rightarrow$ 28 $\\rightarrow$ 144 $\\rightarrow$ 215 $\\rightarrow$ OutD0 \\\\\n",
      " \n",
      "5 & OutD0 $\\rightarrow$ 129 $\\rightarrow$ 172 $\\rightarrow$ 144 $\\rightarrow$ 217 $\\rightarrow$ OutD0 \\\\\n",
      " \n",
      "6 & OutD1 $\\rightarrow$ 172 $\\rightarrow$ 74 $\\rightarrow$ 67 $\\rightarrow$ 14 $\\rightarrow$ 36 $\\rightarrow$ 35 $\\rightarrow$ 47 $\\rightarrow$ 51 $\\rightarrow$ 23 $\\rightarrow$ 28 $\\rightarrow$ OutD1 \\\\\n",
      " \n",
      "7 & OutD1 $\\rightarrow$ 266 $\\rightarrow$ 349 $\\rightarrow$ 217 $\\rightarrow$ 129 $\\rightarrow$ 144 $\\rightarrow$ 28 $\\rightarrow$ OutD1 \\\\\n",
      " \n",
      "8 & OutD0 $\\rightarrow$ 36 $\\rightarrow$ 14 $\\rightarrow$ 79 $\\rightarrow$ 67 $\\rightarrow$ 74 $\\rightarrow$ 128 $\\rightarrow$ 172 $\\rightarrow$ 144 $\\rightarrow$ 215 $\\rightarrow$ OutD0 \\\\\n",
      " \n",
      "9 & OutD1 $\\rightarrow$ 144 $\\rightarrow$ 129 $\\rightarrow$ 14 $\\rightarrow$ 47 $\\rightarrow$ 217 $\\rightarrow$ 349 $\\rightarrow$ OutD1 \\\\\n",
      " \n",
      "10 & OutD1 $\\rightarrow$ 144 $\\rightarrow$ 28 $\\rightarrow$ 23 $\\rightarrow$ 51 $\\rightarrow$ 36 $\\rightarrow$ 14 $\\rightarrow$ 79 $\\rightarrow$ 128 $\\rightarrow$ 349 $\\rightarrow$ OutD1 \\\\\n",
      " \n",
      "\n"
     ]
    }
   ],
   "source": [
    "for key, value in b.items():\n",
    "    min_runtime = min(value, key=value.get)\n",
    "    fitness, value = value[min_runtime]\n",
    "\n",
    "    route = value\n",
    "    #fitness, route = solution\n",
    "    sku, subscript, num_orders = key\n",
    "    print('orders_{}_mean_5_sku_{}{}'.format(str(num_orders), sku, subscript) + \n",
    "          \"\\n--------------------------------------------------------------- \\n\\n\"+\n",
    "          \"{} after {} seconds\".format(str(fitness), str(min_runtime)) + \"\\n\\n\"+\n",
    "          latex_string_from_route(route))"
   ]
  },
  {
   "cell_type": "code",
   "execution_count": 35,
   "metadata": {},
   "outputs": [],
   "source": [
    "with open('solutions/mixed16.pickle', 'rb') as handle:\n",
    "    mixed = pickle.load(handle)"
   ]
  },
  {
   "cell_type": "code",
   "execution_count": 36,
   "metadata": {},
   "outputs": [],
   "source": [
    "def latex_string_from_mixed_route(route):\n",
    "    latex_string = \"\"\n",
    "    count = 1\n",
    "    for key, value in route.items():\n",
    "        latex_string +=  \"{} & \".format(str(count)) + key.split(\"_\")[0] + \" $\\\\rightarrow$ \"\n",
    "        for i, node in enumerate(value):\n",
    "            latex_string += node +  f\" $\\\\rightarrow$ \"\n",
    "        latex_string += key.split(\"_\")[0] +  \" \\\\\\\\\" + \"\\n \\n\"\n",
    "        count+=1\n",
    "    return latex_string "
   ]
  },
  {
   "cell_type": "code",
   "execution_count": 37,
   "metadata": {},
   "outputs": [
    {
     "name": "stdout",
     "output_type": "stream",
     "text": [
      "orders_10_mean_5_sku_360\n",
      "--------------------------------------------------------------- \n",
      "\n",
      "387.69999999999993 after 5 seconds\n",
      "\n",
      "1 & OutD0 $\\rightarrow$ 61 $\\rightarrow$ 64 $\\rightarrow$ 69 $\\rightarrow$ 73 $\\rightarrow$ 43 $\\rightarrow$ 130 $\\rightarrow$ 122 $\\rightarrow$ 151 $\\rightarrow$ OutD0 \\\\\n",
      " \n",
      "2 & OutD0 $\\rightarrow$ 151 $\\rightarrow$ 125 $\\rightarrow$ 159 $\\rightarrow$ 130 $\\rightarrow$ 163 $\\rightarrow$ 102 $\\rightarrow$ 103 $\\rightarrow$ 74 $\\rightarrow$ 193 $\\rightarrow$ OutD0 \\\\\n",
      " \n",
      "3 & OutD0 $\\rightarrow$ 64 $\\rightarrow$ 66 $\\rightarrow$ 69 $\\rightarrow$ 102 $\\rightarrow$ 107 $\\rightarrow$ 43 $\\rightarrow$ 36 $\\rightarrow$ 31 $\\rightarrow$ OutD0 \\\\\n",
      " \n",
      "4 & OutD0 $\\rightarrow$ 122 $\\rightarrow$ 159 $\\rightarrow$ 47 $\\rightarrow$ 43 $\\rightarrow$ 12 $\\rightarrow$ 42 $\\rightarrow$ 31 $\\rightarrow$ OutD0 \\\\\n",
      " \n",
      "5 & OutD0 $\\rightarrow$ 66 $\\rightarrow$ 69 $\\rightarrow$ 101 $\\rightarrow$ 73 $\\rightarrow$ 159 $\\rightarrow$ OutD0 \\\\\n",
      " \n",
      "\n",
      "orders_10_mean_5_sku_360_b\n",
      "--------------------------------------------------------------- \n",
      "\n",
      "392.8999999999999 after 5 seconds\n",
      "\n",
      "1 & OutD0 $\\rightarrow$ 122 $\\rightarrow$ 159 $\\rightarrow$ 74 $\\rightarrow$ 73 $\\rightarrow$ 71 $\\rightarrow$ 69 $\\rightarrow$ 61 $\\rightarrow$ 211 $\\rightarrow$ OutD0 \\\\\n",
      " \n",
      "2 & OutD1 $\\rightarrow$ 178 $\\rightarrow$ 174 $\\rightarrow$ 173 $\\rightarrow$ 74 $\\rightarrow$ 102 $\\rightarrow$ 103 $\\rightarrow$ 196 $\\rightarrow$ 232 $\\rightarrow$ 237 $\\rightarrow$ OutD1 \\\\\n",
      " \n",
      "3 & OutD0 $\\rightarrow$ 42 $\\rightarrow$ 12 $\\rightarrow$ 43 $\\rightarrow$ 102 $\\rightarrow$ 69 $\\rightarrow$ 64 $\\rightarrow$ 122 $\\rightarrow$ OutD0 \\\\\n",
      " \n",
      "4 & OutD1 $\\rightarrow$ 238 $\\rightarrow$ 232 $\\rightarrow$ 196 $\\rightarrow$ 225 $\\rightarrow$ 193 $\\rightarrow$ 286 $\\rightarrow$ 269 $\\rightarrow$ OutD1 \\\\\n",
      " \n",
      "5 & OutD0 $\\rightarrow$ 125 $\\rightarrow$ 193 $\\rightarrow$ 101 $\\rightarrow$ 66 $\\rightarrow$ 92 $\\rightarrow$ 61 $\\rightarrow$ OutD0 \\\\\n",
      " \n",
      "\n"
     ]
    }
   ],
   "source": [
    "for key, value in mixed.items():\n",
    "    min_runtime = min(value, key=value.get)\n",
    "    fitness, value = value[min_runtime]\n",
    "\n",
    "    route = value\n",
    "    #fitness, route = solution\n",
    "    sku, subscript, num_orders = key\n",
    "    print('orders_{}_mean_5_sku_{}{}'.format(str(num_orders), sku, subscript) + \n",
    "          \"\\n--------------------------------------------------------------- \\n\\n\"+\n",
    "          \"{} after {} seconds\".format(str(fitness), str(min_runtime)) + \"\\n\\n\"+\n",
    "          latex_string_from_mixed_route(route))"
   ]
  },
  {
   "cell_type": "code",
   "execution_count": 31,
   "metadata": {},
   "outputs": [
    {
     "name": "stdout",
     "output_type": "stream",
     "text": [
      "1 & OutD1 $\\rightarrow$ 14 $\\rightarrow$ 21 $\\rightarrow$ 22 $\\rightarrow$ 16 $\\rightarrow$ 23 $\\rightarrow$ OutD1 \\\\\n",
      " \n",
      "2 & OutD1 $\\rightarrow$ 16 $\\rightarrow$ 22 $\\rightarrow$ 17 $\\rightarrow$ OutD1 \\\\\n",
      " \n",
      "\n"
     ]
    }
   ],
   "source": [
    "print(latex_string_from_mixed_route({'OutD1_0': ['14', '21', '22', '16', '23'], 'OutD1_1': ['16', '22', '17']}))"
   ]
  }
 ],
 "metadata": {
  "kernelspec": {
   "display_name": "Python 3",
   "language": "python",
   "name": "python3"
  },
  "language_info": {
   "codemirror_mode": {
    "name": "ipython",
    "version": 3
   },
   "file_extension": ".py",
   "mimetype": "text/x-python",
   "name": "python",
   "nbconvert_exporter": "python",
   "pygments_lexer": "ipython3",
   "version": "3.6.2"
  }
 },
 "nbformat": 4,
 "nbformat_minor": 2
}
